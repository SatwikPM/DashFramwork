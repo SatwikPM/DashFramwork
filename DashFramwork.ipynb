{
 "cells": [
  {
   "cell_type": "markdown",
   "metadata": {},
   "source": [
    "# Dash Framework"
   ]
  },
  {
   "cell_type": "markdown",
   "metadata": {},
   "source": [
    "Dash is an open-source Python framework used for building analytical web applications. It is a powerful library that simplifies the development of data-driven applications. It’s especially useful for Python data scientists who aren’t very familiar with web development. Users can create amazing dashboards in their browser using dash."
   ]
  },
  {
   "cell_type": "markdown",
   "metadata": {},
   "source": [
    "Dash is an open-source Python framework used for building analytical web applications. It is a powerful library that simplifies the development of data-driven applications. It’s especially useful for Python data scientists who aren’t very familiar with web development. Users can create amazing dashboards in their browser using dash."
   ]
  },
  {
   "cell_type": "markdown",
   "metadata": {},
   "source": [
    "Dash apps consist of a Flask server that communicates with front-end React components using JSON packets over HTTP requests."
   ]
  },
  {
   "cell_type": "markdown",
   "metadata": {},
   "source": [
    "### Dash applications are written purely in python, so NO HTML or JavaScript is necessary."
   ]
  },
  {
   "cell_type": "markdown",
   "metadata": {},
   "source": [
    "## Dash Setup"
   ]
  },
  {
   "cell_type": "markdown",
   "metadata": {},
   "source": [
    "If Dash is not already installed in your terminal, then install the below mentioned Dash libraries. As these libraries are under active development, install and upgrade then frequently. "
   ]
  },
  {
   "cell_type": "raw",
   "metadata": {},
   "source": [
    "pip install dash==0.23.1 # The core dash backend\n",
    "pip install dash-renderer==0.13.0 # The dash front-end\n",
    "pip install dash-html-components==0.11.0 # HTML components\n",
    "pip install dash-core-components==0.26.0 # Supercharged components\n",
    "pip install plotly==3.1.0 # Plotly graphing library"
   ]
  },
  {
   "cell_type": "markdown",
   "metadata": {},
   "source": [
    "To make sure everything is working properly, lts try to build a dashApp.py file."
   ]
  },
  {
   "cell_type": "markdown",
   "metadata": {},
   "source": [
    "## Core Components"
   ]
  },
  {
   "cell_type": "markdown",
   "metadata": {},
   "source": [
    "We can build the layout with the dash_html_components and the dash_core_components library. Dash provides python classes for all the visual components of the application."
   ]
  },
  {
   "cell_type": "markdown",
   "metadata": {},
   "source": [
    "#### Important note: We can also customize our own components with JavaScript and React.js."
   ]
  },
  {
   "cell_type": "code",
   "execution_count": null,
   "metadata": {},
   "outputs": [],
   "source": [
    "import dash_core_components as dcc\n",
    "import dash_html_components as html"
   ]
  },
  {
   "cell_type": "markdown",
   "metadata": {},
   "source": [
    "The dash_html_components is for all HTML tags where the dash_core_components is for interactivity built with React.js."
   ]
  },
  {
   "cell_type": "code",
   "execution_count": null,
   "metadata": {},
   "outputs": [],
   "source": [
    "#Using above two libraries, let us write a code as given below −\n",
    "\n",
    "# This snipt will not Execute as its a partial part(incomplete)\n",
    "app = dash.Dash()\n",
    "app.layout = html.Div(children=[\n",
    "   html.H1(children='Hello Dash'),\n",
    "   html.Div(children='''Dash Framework: A web application framework for Python.'''),]"
   ]
  },
  {
   "cell_type": "raw",
   "metadata": {},
   "source": [
    "Equivalent HTML code of the above Snipt would look like this −\n",
    "<div>\n",
    "   <h1> Hello Dash </h1>\n",
    "   <div> Dash Framework: A web application framework for Python. </div>\n",
    "</div>"
   ]
  },
  {
   "cell_type": "code",
   "execution_count": 3,
   "metadata": {},
   "outputs": [
    {
     "name": "stdout",
     "output_type": "stream",
     "text": [
      " * Serving Flask app \"__main__\" (lazy loading)\n",
      " * Environment: production\n",
      "   WARNING: This is a development server. Do not use it in a production deployment.\n",
      "   Use a production WSGI server instead.\n",
      " * Debug mode: off\n"
     ]
    },
    {
     "name": "stderr",
     "output_type": "stream",
     "text": [
      " * Running on http://127.0.0.1:8999/ (Press CTRL+C to quit)\n",
      "127.0.0.1 - - [10/May/2020 22:02:05] \"\u001b[37mGET / HTTP/1.1\u001b[0m\" 200 -\n",
      "127.0.0.1 - - [10/May/2020 22:02:05] \"\u001b[37mGET /_dash-layout HTTP/1.1\u001b[0m\" 200 -\n",
      "127.0.0.1 - - [10/May/2020 22:02:05] \"\u001b[37mGET /_dash-dependencies HTTP/1.1\u001b[0m\" 200 -\n"
     ]
    }
   ],
   "source": [
    "#We will learn how to write a simple example on dash using above mentioned library in a file dashApp.py\n",
    "import dash\n",
    "import dash_core_components as dcc\n",
    "import dash_html_components as html\n",
    "import pandas as pd\n",
    "import plotly.express as px\n",
    "\n",
    "# Import irish dataset\n",
    "df = px.data.iris()\n",
    "# Create plotly plot\n",
    "plotly_fig = px.scatter(df, x=\"sepal_width\", y=\"sepal_length\", color=\"species\",\n",
    "                 size='petal_length', hover_data=['petal_width'])\n",
    "\n",
    "\n",
    "app = dash.Dash()\n",
    "# Dash app layout section\n",
    "app.layout = html.Div([\n",
    "\n",
    "    html.H1(children='Use Plotly plot in Dash'),\n",
    "    html.Div(children='Dash: Python framework to build web application'),\n",
    "\n",
    " # Insert plotly plot into dash\n",
    "    dcc.Graph(id='graph', figure=plotly_fig)\n",
    "])\n",
    "\n",
    "if __name__ == '__main__':\n",
    "    app.run_server(8999,debug=False)"
   ]
  },
  {
   "cell_type": "markdown",
   "metadata": {},
   "source": [
    "### Writing Simple Dash app"
   ]
  },
  {
   "cell_type": "code",
   "execution_count": 7,
   "metadata": {},
   "outputs": [
    {
     "name": "stdout",
     "output_type": "stream",
     "text": [
      " * Serving Flask app \"__main__\" (lazy loading)\n",
      " * Environment: production\n",
      "   WARNING: This is a development server. Do not use it in a production deployment.\n",
      "   Use a production WSGI server instead.\n",
      " * Debug mode: off\n"
     ]
    },
    {
     "name": "stderr",
     "output_type": "stream",
     "text": [
      " * Running on http://127.0.0.1:8999/ (Press CTRL+C to quit)\n",
      "127.0.0.1 - - [10/May/2020 22:24:52] \"\u001b[37mGET / HTTP/1.1\u001b[0m\" 200 -\n",
      "127.0.0.1 - - [10/May/2020 22:24:53] \"\u001b[37mGET /_dash-layout HTTP/1.1\u001b[0m\" 200 -\n",
      "127.0.0.1 - - [10/May/2020 22:24:53] \"\u001b[37mGET /_dash-dependencies HTTP/1.1\u001b[0m\" 200 -\n"
     ]
    }
   ],
   "source": [
    "#We will learn how to write a simple example on dash using above mentioned library in a file dashApp.py.\n",
    "import dash\n",
    "import dash_core_components as dcc\n",
    "import dash_html_components as html\n",
    "\n",
    "app = dash.Dash()\n",
    "\n",
    "app.layout = html.Div(children=[\n",
    "   html.H1(children='Hello Dash'),\n",
    "   html.Div(children='''Dash Framework: A web application framework for Python.'''),\n",
    "\n",
    "   dcc.Graph(\n",
    "      id='example-graph',\n",
    "      figure={\n",
    "         'data': [\n",
    "            {'x': [1, 2, 3], 'y': [4, 1, 2], 'type': 'bar', 'name': 'Delhi'},\n",
    "            {'x': [1, 2, 3], 'y': [2, 4, 5], 'type': 'bar', 'name': u'Mumbai'},\n",
    "         ],\n",
    "         'layout': {\n",
    "            'title': 'Dash Data Visualization'\n",
    "         }\n",
    "      }\n",
    "   )\n",
    "])\n",
    "\n",
    "if __name__ == '__main__':\n",
    "    app.run_server(8999,debug=False)"
   ]
  },
  {
   "cell_type": "raw",
   "metadata": {},
   "source": [
    "In above program, few important points to be noted are as follows −\n",
    "\n",
    "1. The app layout is composed of a tree of “components” like html.Div and dcc.Graph.\n",
    "\n",
    "2.The dash_html_components library has a component for every HTML tag. The html.H1 (children = ‘Hello Dash’) component generates a <h1> Hello Dash </h1> HTML element in your application.\n",
    "\n",
    "3.Not all components are pure HTML. The dash_core_components describe higher-level components that are interactive and are generated with JavaScript, HTML, and CSS through the React.js library.\n",
    "\n",
    "4.Each component is described entirely through keyword attributes. Dash is declarative: you will primarily describe your application through these attributes.\n",
    "\n",
    "5.The children property is special. By convention, it’s always the first attribute which means that you can omit it.\n",
    "Html.H1 (children=’Hello Dash’) is the same as html.H1 (‘Hello Dash’).\n",
    "\n",
    "6.The fonts in your application will look a little bit different than what is displayed here. This application is using a custom CSS stylesheet to modify the default styles of the elements. Custom font style is permissible, but as of now, we can add the below URL or any URL of your choice −\n",
    "app.css.append_css ({“external_url”:https://codepen.io/chriddyp/pen/bwLwgP.css}) to get your file to get the same look and feel of these examples."
   ]
  },
  {
   "cell_type": "markdown",
   "metadata": {},
   "source": [
    "### More about HTML\n",
    "The dash_html_components library contains a component class for every HTML tag as well as keyword arguments for all of the HTML arguments."
   ]
  },
  {
   "cell_type": "code",
   "execution_count": 8,
   "metadata": {},
   "outputs": [
    {
     "name": "stdout",
     "output_type": "stream",
     "text": [
      " * Serving Flask app \"__main__\" (lazy loading)\n",
      " * Environment: production\n",
      "   WARNING: This is a development server. Do not use it in a production deployment.\n",
      "   Use a production WSGI server instead.\n",
      " * Debug mode: off\n"
     ]
    },
    {
     "name": "stderr",
     "output_type": "stream",
     "text": [
      " * Running on http://127.0.0.1:8999/ (Press CTRL+C to quit)\n",
      "127.0.0.1 - - [10/May/2020 22:32:31] \"\u001b[37mGET / HTTP/1.1\u001b[0m\" 200 -\n",
      "127.0.0.1 - - [10/May/2020 22:32:32] \"\u001b[37mGET /_dash-layout HTTP/1.1\u001b[0m\" 200 -\n",
      "127.0.0.1 - - [10/May/2020 22:32:32] \"\u001b[37mGET /_dash-dependencies HTTP/1.1\u001b[0m\" 200 -\n"
     ]
    }
   ],
   "source": [
    "#Let us add the inline styleof the components in our previous app text −\n",
    "import dash\n",
    "import dash_core_components as dcc\n",
    "import dash_html_components as html\n",
    "\n",
    "app = dash.Dash()\n",
    "colors = {\n",
    "   'background': '#87D653',\n",
    "   'text': '#ff0033'\n",
    "}\n",
    "\n",
    "app.layout = html.Div(style={'backgroundColor': colors['background']}, children=[\n",
    "   html.H1(\n",
    "      children='Hello Dash',\n",
    "      style={\n",
    "         'textAlign': 'center',\n",
    "         'color': colors['text']\n",
    "      }\n",
    "   ),\n",
    "\t\n",
    "   html.Div(children='Dash: A web application framework for Python.', style={\n",
    "      'textAlign': 'center',\n",
    "      'color': colors['text']\n",
    "   }),\n",
    "\t\n",
    "   dcc.Graph(\n",
    "      id='example-graph-2',\n",
    "\n",
    "      figure={\n",
    "         'data': [\n",
    "            {'x': [1, 2, 3], 'y': [4, 1, 2], 'type': 'bar', 'name': 'Delhi'},\n",
    "            {'x': [1, 2, 3], 'y': [2, 4, 5], 'type': 'bar', 'name': u'Mumbai'},\n",
    "         ],\n",
    "         'layout': {\n",
    "            'plot_bgcolor': colors['background'],\n",
    "            'paper_bgcolor': colors['background'],\n",
    "            'font': {\n",
    "               'color': colors['text']\n",
    "            }\n",
    "         }\n",
    "      }\n",
    "   )\n",
    "])\n",
    "\n",
    "if __name__ == '__main__':\n",
    "    app.run_server(8999,debug=False)"
   ]
  },
  {
   "cell_type": "raw",
   "metadata": {},
   "source": [
    "In the above example, we modified the inline styles of the html.Div and html.H1 components with the style property."
   ]
  },
  {
   "cell_type": "raw",
   "metadata": {},
   "source": [
    "There are couple of key distinctions between dash_html_components and HTML attributes −\n",
    "\n",
    "For style property in Dash, you can just supply a dictionary, whereas in HTML, it is semicolon-separated string.\n",
    "Style dictionary keys are camelCased, so text-align changes to textalign.\n",
    "\n",
    "ClassName in Dash is similar to HTML class attribute.\n",
    "The first argument is the children of the HTML tag which is specified through the children keyword argument."
   ]
  },
  {
   "cell_type": "markdown",
   "metadata": {},
   "source": [
    "# Reusable Components"
   ]
  },
  {
   "cell_type": "raw",
   "metadata": {},
   "source": [
    "\n",
    "By writing our markup in Python, we can create complex reusable components like tables without switching contexts or languages −\n",
    "Below is a quick example that generates a “Table” from pandas dataframe."
   ]
  },
  {
   "cell_type": "code",
   "execution_count": 9,
   "metadata": {},
   "outputs": [
    {
     "name": "stdout",
     "output_type": "stream",
     "text": [
      " * Serving Flask app \"__main__\" (lazy loading)\n",
      " * Environment: production\n",
      "   WARNING: This is a development server. Do not use it in a production deployment.\n",
      "   Use a production WSGI server instead.\n",
      " * Debug mode: off\n"
     ]
    },
    {
     "name": "stderr",
     "output_type": "stream",
     "text": [
      " * Running on http://127.0.0.1:8999/ (Press CTRL+C to quit)\n",
      "127.0.0.1 - - [10/May/2020 23:20:56] \"\u001b[37mGET / HTTP/1.1\u001b[0m\" 200 -\n",
      "127.0.0.1 - - [10/May/2020 23:20:56] \"\u001b[37mGET /_dash-layout HTTP/1.1\u001b[0m\" 200 -\n",
      "127.0.0.1 - - [10/May/2020 23:20:56] \"\u001b[37mGET /_dash-dependencies HTTP/1.1\u001b[0m\" 200 -\n"
     ]
    }
   ],
   "source": [
    "import dash\n",
    "import dash_core_components as dcc\n",
    "import dash_html_components as html\n",
    "import pandas as pd\n",
    "\n",
    "df = pd.read_csv('https://gist.githubusercontent.com/chriddyp/c78bf172206ce24f77d6363a2d754b59/raw/c353e8ef842413cae56ae3920b8fd78468aa4cb2/usa-agricultural-exports-2011.csv')\n",
    "\n",
    "def generate_table(dataframe, max_rows=10):\n",
    "    return html.Table(\n",
    "      # Header\n",
    "      [html.Tr([html.Th(col) for col in dataframe.columns])] +\n",
    "      # Body\n",
    "      [html.Tr([\n",
    "         html.Td(dataframe.iloc[i][col]) for col in dataframe.columns\n",
    "      ]) for i in range(min(len(dataframe), max_rows))]\n",
    "     )\n",
    "\n",
    "app = dash.Dash()\n",
    "app.layout = html.Div(children=[\n",
    "   html.H4(children='US Agriculture Exports (2011)'),\n",
    "   generate_table(df)\n",
    "])\n",
    "\n",
    "if __name__ == '__main__':\n",
    "    app.run_server(8999,debug=False)"
   ]
  },
  {
   "cell_type": "markdown",
   "metadata": {},
   "source": [
    "# More about Visualization"
   ]
  },
  {
   "cell_type": "raw",
   "metadata": {},
   "source": [
    "The dash_core_components library includes a component called Graph.\n",
    "Graph renders interactive data visualizations using the open source plotly.js JavaScript graphing library. Plotly.js support around 35 chart types and renders charts in both vector-quality SVG and high-performance WebGL.\n",
    "Below is an example that creates a scatter plot from a Pandas dataframe −"
   ]
  },
  {
   "cell_type": "code",
   "execution_count": 10,
   "metadata": {},
   "outputs": [
    {
     "name": "stdout",
     "output_type": "stream",
     "text": [
      " * Serving Flask app \"__main__\" (lazy loading)\n",
      " * Environment: production\n",
      "   WARNING: This is a development server. Do not use it in a production deployment.\n",
      "   Use a production WSGI server instead.\n",
      " * Debug mode: off\n"
     ]
    },
    {
     "name": "stderr",
     "output_type": "stream",
     "text": [
      " * Running on http://127.0.0.1:8999/ (Press CTRL+C to quit)\n",
      "127.0.0.1 - - [10/May/2020 23:23:30] \"\u001b[37mGET / HTTP/1.1\u001b[0m\" 200 -\n",
      "127.0.0.1 - - [10/May/2020 23:23:31] \"\u001b[37mGET /_dash-layout HTTP/1.1\u001b[0m\" 200 -\n",
      "127.0.0.1 - - [10/May/2020 23:23:31] \"\u001b[37mGET /_dash-dependencies HTTP/1.1\u001b[0m\" 200 -\n"
     ]
    }
   ],
   "source": [
    "import dash\n",
    "import dash_core_components as dcc\n",
    "import dash_html_components as html\n",
    "import pandas as pd\n",
    "import plotly.graph_objs as go\n",
    "\n",
    "app = dash.Dash()\n",
    "\n",
    "df = pd.read_csv(\n",
    "   'https://gist.githubusercontent.com/chriddyp/' +\n",
    "   '5d1ea79569ed194d432e56108a04d188/raw/' +\n",
    "   'a9f9e8076b837d541398e999dcbac2b2826a81f8/'+\n",
    "   'gdp-life-exp-2007.csv')\n",
    "\n",
    "app.layout = html.Div([\n",
    "   dcc.Graph(\n",
    "      id='life-exp-vs-gdp',\n",
    "      figure={\n",
    "         'data': [\n",
    "            go.Scatter(\n",
    "               x=df[df['continent'] == i]['gdp per capita'],\n",
    "               y=df[df['continent'] == i]['life expectancy'],\n",
    "               text=df[df['continent'] == i]['country'],\n",
    "               mode='markers',\n",
    "               opacity=0.7,\n",
    "               marker={\n",
    "                  'size': 15,\n",
    "                  'line': {'width': 0.5, 'color': 'white'}\n",
    "               },\n",
    "               name=i\n",
    "            ) for i in df.continent.unique()\n",
    "         ],\n",
    "         'layout': go.Layout(\n",
    "            xaxis={'type': 'log', 'title': 'GDP Per Capita'},\n",
    "            yaxis={'title': 'Life Expectancy'},\n",
    "            margin={'l': 40, 'b': 40, 't': 10, 'r': 10},\n",
    "            legend={'x': 0, 'y': 1},\n",
    "            hovermode='closest'\n",
    "         )\n",
    "      }\n",
    "   )\n",
    "])\n",
    "\n",
    "if __name__ == '__main__':\n",
    "    app.run_server(8999,debug=False)"
   ]
  },
  {
   "cell_type": "markdown",
   "metadata": {},
   "source": [
    "These Above graph generated is  interactive and responsive. You can hover over points to see their values, click on legend items to toggle traces, click and drag to zoom, hold down shift, and click and drag to pan."
   ]
  },
  {
   "cell_type": "markdown",
   "metadata": {},
   "source": [
    "### Markdown"
   ]
  },
  {
   "cell_type": "raw",
   "metadata": {},
   "source": [
    "While dash exposes HTML flavours through the dash_html_components library, it can be tedious to write your copy in HTML. For writing blocks of texts, you can use the Markdown component in the dash_core_components library."
   ]
  },
  {
   "cell_type": "markdown",
   "metadata": {},
   "source": [
    "### Core Components"
   ]
  },
  {
   "cell_type": "markdown",
   "metadata": {},
   "source": [
    "The dash_core_components includes a set of higher-level components like dropdowns, graphs, markdown, blocks and many more.\n",
    "Like all other Dash components, they are described entirely declaratively. Every option that is configurable is available as a keyword argument of the component.\n",
    "Below is the example, using some of the available components −"
   ]
  },
  {
   "cell_type": "code",
   "execution_count": 11,
   "metadata": {},
   "outputs": [
    {
     "name": "stdout",
     "output_type": "stream",
     "text": [
      " * Serving Flask app \"__main__\" (lazy loading)\n",
      " * Environment: production\n",
      "   WARNING: This is a development server. Do not use it in a production deployment.\n",
      "   Use a production WSGI server instead.\n",
      " * Debug mode: off\n"
     ]
    },
    {
     "name": "stderr",
     "output_type": "stream",
     "text": [
      " * Running on http://127.0.0.1:8999/ (Press CTRL+C to quit)\n",
      "127.0.0.1 - - [10/May/2020 23:30:57] \"\u001b[37mGET / HTTP/1.1\u001b[0m\" 200 -\n",
      "127.0.0.1 - - [10/May/2020 23:30:57] \"\u001b[37mGET /_dash-layout HTTP/1.1\u001b[0m\" 200 -\n",
      "127.0.0.1 - - [10/May/2020 23:30:57] \"\u001b[37mGET /_dash-dependencies HTTP/1.1\u001b[0m\" 200 -\n"
     ]
    }
   ],
   "source": [
    "import dash\n",
    "import dash_core_components as dcc\n",
    "import dash_html_components as html\n",
    "\n",
    "app = dash.Dash()\n",
    "\n",
    "app.layout = html.Div([\n",
    "   html.Label('Dropdown'),\n",
    "   dcc.Dropdown(\n",
    "      options=[\n",
    "         {'label': 'New York City', 'value': 'NYC'},\n",
    "         {'label': u'Montréal', 'value': 'MTL'},\n",
    "         {'label': 'San Francisco', 'value': 'SF'}\n",
    "      ],\n",
    "      value='MTL'\n",
    "   ),\n",
    "\n",
    "   html.Label('Multi-Select Dropdown'),\n",
    "   dcc.Dropdown(\n",
    "      options=[\n",
    "         {'label': 'New York City', 'value': 'NYC'},\n",
    "         {'label': u'Montréal', 'value': 'MTL'},\n",
    "         {'label': 'San Francisco', 'value': 'SF'}\n",
    "      ],\n",
    "      value=['MTL', 'SF'],\n",
    "      multi=True\n",
    "   ),\n",
    "\n",
    "   html.Label('Radio Items'),\n",
    "   dcc.RadioItems(\n",
    "      options=[\n",
    "         {'label': 'New York City', 'value': 'NYC'},\n",
    "         {'label': u'Montréal', 'value': 'MTL'},\n",
    "         {'label': 'San Francisco', 'value': 'SF'}\n",
    "      ],\n",
    "      value='MTL'\n",
    "   ),\n",
    "\n",
    "   html.Label('Checkboxes'),\n",
    "   dcc.Checklist(\n",
    "      options=[\n",
    "         {'label': 'New York City', 'value': 'NYC'},\n",
    "         {'label': u'Montréal', 'value': 'MTL'},\n",
    "         {'label': 'San Francisco', 'value': 'SF'}\n",
    "      ],\n",
    "      values=['MTL', 'SF']\n",
    "   ),\n",
    "\n",
    "   html.Label('Text Input'),\n",
    "   dcc.Input(value='MTL', type='text'),\n",
    "\n",
    "   html.Label('Slider'),\n",
    "   dcc.Slider(\n",
    "      min=0,\n",
    "      max=9,\n",
    "      marks={i: 'Label {}'.format(i) if i == 1 else str(i) for i in range(1, 6)},\n",
    "      value=5,\n",
    "   ),\n",
    "], style={'columnCount': 2})\n",
    "\n",
    "if __name__ == '__main__':\n",
    "    app.run_server(8999,debug=False)"
   ]
  },
  {
   "cell_type": "markdown",
   "metadata": {},
   "source": [
    "#### callback function is used To make interactive dashboards in dash. Below are the steps to follow while making interactive plots using dash with python."
   ]
  },
  {
   "cell_type": "markdown",
   "metadata": {},
   "source": [
    "Steps:"
   ]
  },
  {
   "cell_type": "markdown",
   "metadata": {},
   "source": [
    "Callback function has two stages callback class decoder and callback update function."
   ]
  },
  {
   "cell_type": "markdown",
   "metadata": {},
   "source": [
    "·       callback class decoder\n",
    "\n",
    "1.     Named @app.callback (name should be exactly same).\n",
    "2.    This needs to be defined before callback update function\n",
    "3.    There are two dependencies need to be pass 1) Input 2) Output\n",
    "4.    Inside input dependency required dash core component id with properties need to be passed\n",
    "5.    Inside output dependency also required dash core component id with properties need to be passed "
   ]
  },
  {
   "cell_type": "markdown",
   "metadata": {},
   "source": [
    "·       Callback update function\n",
    "1.    Function to update a specific plots to make interactive (name can be anything)\n",
    "2.    This function should be exactly below to the related callback class decoder"
   ]
  },
  {
   "cell_type": "raw",
   "metadata": {},
   "source": [
    "Note: Both of the above function and class needs to be written after the end of dash layout section."
   ]
  },
  {
   "cell_type": "code",
   "execution_count": 12,
   "metadata": {},
   "outputs": [
    {
     "name": "stdout",
     "output_type": "stream",
     "text": [
      " * Serving Flask app \"__main__\" (lazy loading)\n",
      " * Environment: production\n",
      "   WARNING: This is a development server. Do not use it in a production deployment.\n",
      "   Use a production WSGI server instead.\n",
      " * Debug mode: off\n"
     ]
    },
    {
     "name": "stderr",
     "output_type": "stream",
     "text": [
      " * Running on http://127.0.0.1:8051/ (Press CTRL+C to quit)\n",
      "127.0.0.1 - - [10/May/2020 23:35:59] \"\u001b[37mGET / HTTP/1.1\u001b[0m\" 200 -\n",
      "127.0.0.1 - - [10/May/2020 23:36:00] \"\u001b[37mGET /_dash-layout HTTP/1.1\u001b[0m\" 200 -\n",
      "127.0.0.1 - - [10/May/2020 23:36:00] \"\u001b[37mGET /_dash-dependencies HTTP/1.1\u001b[0m\" 200 -\n",
      "127.0.0.1 - - [10/May/2020 23:36:00] \"\u001b[37mPOST /_dash-update-component HTTP/1.1\u001b[0m\" 200 -\n",
      "127.0.0.1 - - [10/May/2020 23:36:05] \"\u001b[37mPOST /_dash-update-component HTTP/1.1\u001b[0m\" 200 -\n",
      "127.0.0.1 - - [10/May/2020 23:36:12] \"\u001b[37mPOST /_dash-update-component HTTP/1.1\u001b[0m\" 200 -\n"
     ]
    }
   ],
   "source": [
    "import dash\n",
    "import dash_core_components as dcc\n",
    "import dash_html_components as html\n",
    "import pandas as pd\n",
    "import plotly.express as px\n",
    "import plotly.graph_objects as go\n",
    "\n",
    "# Create plotly plot\n",
    "plotly_fig = go.Figure(data=[go.Scatter(\n",
    "    x=[1, 2, 3, 4], y=[10, 11, 12, 13],\n",
    "    mode='markers',\n",
    "    marker=dict(\n",
    "        color=['#ff3300', '#ff3300', '#ff3300', '#ff3300'],\n",
    "        opacity=[1, 0.8, 0.6, 0.4],\n",
    "        size=[40, 60, 80, 100],\n",
    "    )\n",
    ")])\n",
    "\n",
    "\n",
    "app = dash.Dash()\n",
    "# Dash app layout section\n",
    "app.layout = html.Div([\n",
    "\n",
    "    html.H1(children='Interactive plot in Dash'),\n",
    "    html.Div(children='Dash: Python framework to build web application'),\n",
    "\n",
    "    html.Br(),\n",
    "\n",
    "    dcc.Dropdown(\n",
    "  id='test_dropdow1',\n",
    "  options=[\n",
    "   {'label': 'Red', 'value': '#ff3300'},\n",
    "            {'label': 'Green', 'value': '#009933'},\n",
    "            {'label': 'Blue', 'value': '#0066ff'},\n",
    "            {'label': 'Yellow', 'value': '#ffff00'}\n",
    "  ],\n",
    "  placeholder='Select Color',\n",
    "  value = 'red',\n",
    "  ),\n",
    "\n",
    " # Insert plotly plot into dash\n",
    "    dcc.Graph(id='graph', figure=plotly_fig)\n",
    "])\n",
    "\n",
    "\n",
    "# Callback class decorator\n",
    "@app.callback(\n",
    "    dash.dependencies.Output('graph', 'figure'),\n",
    "    [dash.dependencies.Input('test_dropdow1', 'value')]\n",
    ")\n",
    "\n",
    "# function to change above callback class decorator\n",
    "def change_color(selected_color):\n",
    " updated_fig = go.Figure(data=[go.Scatter(\n",
    "    x=[1, 2, 3, 4], y=[10, 11, 12, 13],\n",
    "    mode='markers',\n",
    "    marker=dict(\n",
    "        color=[selected_color, selected_color, selected_color, selected_color],\n",
    "        opacity=[1, 0.8, 0.6, 0.4],\n",
    "        size=[40, 60, 80, 100],\n",
    "     )\n",
    " )])\n",
    "\n",
    " return updated_fig\n",
    "\n",
    "\n",
    "if __name__ == '__main__':\n",
    "    app.run_server(8051,debug=False)"
   ]
  },
  {
   "cell_type": "code",
   "execution_count": null,
   "metadata": {},
   "outputs": [],
   "source": []
  }
 ],
 "metadata": {
  "kernelspec": {
   "display_name": "Python 3",
   "language": "python",
   "name": "python3"
  },
  "language_info": {
   "codemirror_mode": {
    "name": "ipython",
    "version": 3
   },
   "file_extension": ".py",
   "mimetype": "text/x-python",
   "name": "python",
   "nbconvert_exporter": "python",
   "pygments_lexer": "ipython3",
   "version": "3.6.10"
  }
 },
 "nbformat": 4,
 "nbformat_minor": 4
}
